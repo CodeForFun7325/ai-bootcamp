{
 "cells": [
  {
   "cell_type": "code",
   "execution_count": 1,
   "id": "80ac6250",
   "metadata": {},
   "outputs": [],
   "source": [
    "import pandas as pd\n",
    "import numpy as np\n",
    "import re\n",
    "from vaderSentiment.vaderSentiment import SentimentIntensityAnalyzer\n",
    "import transformers\n",
    "from transformers import pipeline"
   ]
  },
  {
   "cell_type": "code",
   "execution_count": 2,
   "id": "8a0a8dcd",
   "metadata": {},
   "outputs": [],
   "source": [
    "data = pd.read_csv(r\"D:\\Personal_Projects\\ai-bootcamp\\section_23_Sentiment_Analysis\\book_reviews_sample.csv\")"
   ]
  },
  {
   "cell_type": "code",
   "execution_count": 16,
   "id": "6b06730f",
   "metadata": {},
   "outputs": [
    {
     "data": {
      "text/html": [
       "<div>\n",
       "<style scoped>\n",
       "    .dataframe tbody tr th:only-of-type {\n",
       "        vertical-align: middle;\n",
       "    }\n",
       "\n",
       "    .dataframe tbody tr th {\n",
       "        vertical-align: top;\n",
       "    }\n",
       "\n",
       "    .dataframe thead th {\n",
       "        text-align: right;\n",
       "    }\n",
       "</style>\n",
       "<table border=\"1\" class=\"dataframe\">\n",
       "  <thead>\n",
       "    <tr style=\"text-align: right;\">\n",
       "      <th></th>\n",
       "      <th>index</th>\n",
       "      <th>reviewText</th>\n",
       "      <th>rating</th>\n",
       "    </tr>\n",
       "  </thead>\n",
       "  <tbody>\n",
       "    <tr>\n",
       "      <th>0</th>\n",
       "      <td>11494</td>\n",
       "      <td>Clean and funny. A bit busy with all the diffe...</td>\n",
       "      <td>3</td>\n",
       "    </tr>\n",
       "    <tr>\n",
       "      <th>1</th>\n",
       "      <td>984</td>\n",
       "      <td>Alex a sexy hot cop and the PhD candidate. Wha...</td>\n",
       "      <td>4</td>\n",
       "    </tr>\n",
       "    <tr>\n",
       "      <th>2</th>\n",
       "      <td>1463</td>\n",
       "      <td>Good thing that this is a free story. I read i...</td>\n",
       "      <td>1</td>\n",
       "    </tr>\n",
       "    <tr>\n",
       "      <th>3</th>\n",
       "      <td>10342</td>\n",
       "      <td>Action, action, action! Equipment keeps gettin...</td>\n",
       "      <td>4</td>\n",
       "    </tr>\n",
       "    <tr>\n",
       "      <th>4</th>\n",
       "      <td>5256</td>\n",
       "      <td>this was hands down the worse book i have ever...</td>\n",
       "      <td>1</td>\n",
       "    </tr>\n",
       "  </tbody>\n",
       "</table>\n",
       "</div>"
      ],
      "text/plain": [
       "   index                                         reviewText  rating\n",
       "0  11494  Clean and funny. A bit busy with all the diffe...       3\n",
       "1    984  Alex a sexy hot cop and the PhD candidate. Wha...       4\n",
       "2   1463  Good thing that this is a free story. I read i...       1\n",
       "3  10342  Action, action, action! Equipment keeps gettin...       4\n",
       "4   5256  this was hands down the worse book i have ever...       1"
      ]
     },
     "execution_count": 16,
     "metadata": {},
     "output_type": "execute_result"
    }
   ],
   "source": [
    "data.head()"
   ]
  },
  {
   "cell_type": "code",
   "execution_count": 4,
   "id": "5b069a8e",
   "metadata": {},
   "outputs": [
    {
     "name": "stdout",
     "output_type": "stream",
     "text": [
      "<class 'pandas.core.frame.DataFrame'>\n",
      "RangeIndex: 100 entries, 0 to 99\n",
      "Data columns (total 3 columns):\n",
      " #   Column      Non-Null Count  Dtype \n",
      "---  ------      --------------  ----- \n",
      " 0   index       100 non-null    int64 \n",
      " 1   reviewText  100 non-null    object\n",
      " 2   rating      100 non-null    int64 \n",
      "dtypes: int64(2), object(1)\n",
      "memory usage: 2.5+ KB\n"
     ]
    }
   ],
   "source": [
    "data.info()"
   ]
  },
  {
   "cell_type": "code",
   "execution_count": null,
   "id": "0e9622e3",
   "metadata": {},
   "outputs": [],
   "source": [
    "# Remove punctuation and set to lowercase\n",
    "data['reviewText_clean'] = data['reviewText'].apply(lambda x: re.sub(r'[^\\w\\s]', '', x.lower()))"
   ]
  },
  {
   "cell_type": "code",
   "execution_count": 18,
   "id": "75709b9e",
   "metadata": {},
   "outputs": [
    {
     "data": {
      "text/html": [
       "<div>\n",
       "<style scoped>\n",
       "    .dataframe tbody tr th:only-of-type {\n",
       "        vertical-align: middle;\n",
       "    }\n",
       "\n",
       "    .dataframe tbody tr th {\n",
       "        vertical-align: top;\n",
       "    }\n",
       "\n",
       "    .dataframe thead th {\n",
       "        text-align: right;\n",
       "    }\n",
       "</style>\n",
       "<table border=\"1\" class=\"dataframe\">\n",
       "  <thead>\n",
       "    <tr style=\"text-align: right;\">\n",
       "      <th></th>\n",
       "      <th>index</th>\n",
       "      <th>reviewText</th>\n",
       "      <th>rating</th>\n",
       "      <th>reviewText_clean</th>\n",
       "    </tr>\n",
       "  </thead>\n",
       "  <tbody>\n",
       "    <tr>\n",
       "      <th>0</th>\n",
       "      <td>11494</td>\n",
       "      <td>Clean and funny. A bit busy with all the diffe...</td>\n",
       "      <td>3</td>\n",
       "      <td>clean and funny a bit busy with all the differ...</td>\n",
       "    </tr>\n",
       "    <tr>\n",
       "      <th>1</th>\n",
       "      <td>984</td>\n",
       "      <td>Alex a sexy hot cop and the PhD candidate. Wha...</td>\n",
       "      <td>4</td>\n",
       "      <td>alex a sexy hot cop and the phd candidate what...</td>\n",
       "    </tr>\n",
       "    <tr>\n",
       "      <th>2</th>\n",
       "      <td>1463</td>\n",
       "      <td>Good thing that this is a free story. I read i...</td>\n",
       "      <td>1</td>\n",
       "      <td>good thing that this is a free story i read it...</td>\n",
       "    </tr>\n",
       "    <tr>\n",
       "      <th>3</th>\n",
       "      <td>10342</td>\n",
       "      <td>Action, action, action! Equipment keeps gettin...</td>\n",
       "      <td>4</td>\n",
       "      <td>action action action equipment keeps getting b...</td>\n",
       "    </tr>\n",
       "    <tr>\n",
       "      <th>4</th>\n",
       "      <td>5256</td>\n",
       "      <td>this was hands down the worse book i have ever...</td>\n",
       "      <td>1</td>\n",
       "      <td>this was hands down the worse book i have ever...</td>\n",
       "    </tr>\n",
       "  </tbody>\n",
       "</table>\n",
       "</div>"
      ],
      "text/plain": [
       "   index                                         reviewText  rating  \\\n",
       "0  11494  Clean and funny. A bit busy with all the diffe...       3   \n",
       "1    984  Alex a sexy hot cop and the PhD candidate. Wha...       4   \n",
       "2   1463  Good thing that this is a free story. I read i...       1   \n",
       "3  10342  Action, action, action! Equipment keeps gettin...       4   \n",
       "4   5256  this was hands down the worse book i have ever...       1   \n",
       "\n",
       "                                    reviewText_clean  \n",
       "0  clean and funny a bit busy with all the differ...  \n",
       "1  alex a sexy hot cop and the phd candidate what...  \n",
       "2  good thing that this is a free story i read it...  \n",
       "3  action action action equipment keeps getting b...  \n",
       "4  this was hands down the worse book i have ever...  "
      ]
     },
     "execution_count": 18,
     "metadata": {},
     "output_type": "execute_result"
    }
   ],
   "source": [
    "data.head()"
   ]
  },
  {
   "cell_type": "code",
   "execution_count": 19,
   "id": "4de5122b",
   "metadata": {},
   "outputs": [],
   "source": [
    "vader_sentiment = SentimentIntensityAnalyzer()"
   ]
  },
  {
   "cell_type": "code",
   "execution_count": 22,
   "id": "b35e888c",
   "metadata": {},
   "outputs": [],
   "source": [
    "data['vader_sentiment_score'] = data['reviewText_clean'].apply(lambda review: vader_sentiment.polarity_scores(review)['compound'])"
   ]
  },
  {
   "cell_type": "code",
   "execution_count": 23,
   "id": "80058fa3",
   "metadata": {},
   "outputs": [
    {
     "data": {
      "text/plain": [
       "0    0.7684\n",
       "1    0.9325\n",
       "2    0.6740\n",
       "3    0.6652\n",
       "4   -0.4767\n",
       "Name: vader_sentiment_score, dtype: float64"
      ]
     },
     "execution_count": 23,
     "metadata": {},
     "output_type": "execute_result"
    }
   ],
   "source": [
    "data['vader_sentiment_score'].head()"
   ]
  },
  {
   "cell_type": "code",
   "execution_count": 24,
   "id": "43d82808",
   "metadata": {},
   "outputs": [],
   "source": [
    "bins = [-1, -0.1, 0.1, 1]\n",
    "names = ['negative', 'neutral', 'positive']\n",
    "\n",
    "data['vader_sentiment_label'] = pd.cut(data['vader_sentiment_score'], bins, labels=names)"
   ]
  },
  {
   "cell_type": "code",
   "execution_count": 25,
   "id": "c8068835",
   "metadata": {},
   "outputs": [
    {
     "data": {
      "text/plain": [
       "<Axes: xlabel='vader_sentiment_label'>"
      ]
     },
     "execution_count": 25,
     "metadata": {},
     "output_type": "execute_result"
    },
    {
     "data": {
      "image/png": "[encoded data removed]",
      "text/plain": [
       "<Figure size 640x480 with 1 Axes>"
      ]
     },
     "metadata": {},
     "output_type": "display_data"
    }
   ],
   "source": [
    "data['vader_sentiment_label'].value_counts().plot.bar()"
   ]
  },
  {
   "cell_type": "code",
   "execution_count": 26,
   "id": "4b2a399a",
   "metadata": {},
   "outputs": [
    {
     "name": "stderr",
     "output_type": "stream",
     "text": [
      "emoji is not installed, thus not converting emoticons or emojis into text. Install emoji: pip3 install emoji==0.6.0\n",
      "Device set to use cpu\n"
     ]
    }
   ],
   "source": [
    "transformer_pipeline = pipeline(\"sentiment-analysis\", model = \"finiteautomata/bertweet-base-sentiment-analysis\")"
   ]
  },
  {
   "cell_type": "code",
   "execution_count": 28,
   "id": "683922c1",
   "metadata": {},
   "outputs": [],
   "source": [
    "transformer_labels = []\n",
    "\n",
    "for review in data['reviewText_clean'].values:\n",
    "    sentiment_list = transformer_pipeline(review)\n",
    "    sentiment_label = [sent['label'] for sent in sentiment_list]\n",
    "    transformer_labels.append(sentiment_label)"
   ]
  },
  {
   "cell_type": "code",
   "execution_count": 29,
   "id": "0d220562",
   "metadata": {},
   "outputs": [
    {
     "data": {
      "text/plain": [
       "[['POS'],\n",
       " ['POS'],\n",
       " ['NEG'],\n",
       " ['NEG'],\n",
       " ['NEG'],\n",
       " ['POS'],\n",
       " ['POS'],\n",
       " ['POS'],\n",
       " ['NEG'],\n",
       " ['POS'],\n",
       " ['NEG'],\n",
       " ['NEG'],\n",
       " ['NEG'],\n",
       " ['POS'],\n",
       " ['NEG'],\n",
       " ['NEG'],\n",
       " ['NEU'],\n",
       " ['POS'],\n",
       " ['POS'],\n",
       " ['POS'],\n",
       " ['NEU'],\n",
       " ['POS'],\n",
       " ['NEG'],\n",
       " ['POS'],\n",
       " ['NEG'],\n",
       " ['NEU'],\n",
       " ['NEU'],\n",
       " ['POS'],\n",
       " ['POS'],\n",
       " ['POS'],\n",
       " ['NEG'],\n",
       " ['POS'],\n",
       " ['NEG'],\n",
       " ['POS'],\n",
       " ['NEG'],\n",
       " ['POS'],\n",
       " ['POS'],\n",
       " ['POS'],\n",
       " ['NEG'],\n",
       " ['POS'],\n",
       " ['NEG'],\n",
       " ['NEU'],\n",
       " ['POS'],\n",
       " ['NEG'],\n",
       " ['POS'],\n",
       " ['POS'],\n",
       " ['POS'],\n",
       " ['NEG'],\n",
       " ['POS'],\n",
       " ['POS'],\n",
       " ['NEG'],\n",
       " ['POS'],\n",
       " ['NEU'],\n",
       " ['POS'],\n",
       " ['POS'],\n",
       " ['NEG'],\n",
       " ['POS'],\n",
       " ['POS'],\n",
       " ['NEG'],\n",
       " ['NEU'],\n",
       " ['NEU'],\n",
       " ['POS'],\n",
       " ['POS'],\n",
       " ['NEG'],\n",
       " ['POS'],\n",
       " ['POS'],\n",
       " ['POS'],\n",
       " ['NEG'],\n",
       " ['NEG'],\n",
       " ['POS'],\n",
       " ['NEU'],\n",
       " ['POS'],\n",
       " ['NEG'],\n",
       " ['POS'],\n",
       " ['NEG'],\n",
       " ['NEG'],\n",
       " ['NEG'],\n",
       " ['NEG'],\n",
       " ['POS'],\n",
       " ['NEG'],\n",
       " ['POS'],\n",
       " ['NEU'],\n",
       " ['POS'],\n",
       " ['NEG'],\n",
       " ['POS'],\n",
       " ['POS'],\n",
       " ['POS'],\n",
       " ['NEG'],\n",
       " ['POS'],\n",
       " ['POS'],\n",
       " ['POS'],\n",
       " ['NEU'],\n",
       " ['POS'],\n",
       " ['POS'],\n",
       " ['POS'],\n",
       " ['POS'],\n",
       " ['POS'],\n",
       " ['POS'],\n",
       " ['POS'],\n",
       " ['POS']]"
      ]
     },
     "execution_count": 29,
     "metadata": {},
     "output_type": "execute_result"
    }
   ],
   "source": [
    "transformer_labels"
   ]
  },
  {
   "cell_type": "code",
   "execution_count": 30,
   "id": "2deb7d1d",
   "metadata": {},
   "outputs": [],
   "source": [
    "data['transformer_sentiment_label'] = transformer_labels\n"
   ]
  },
  {
   "cell_type": "code",
   "execution_count": 31,
   "id": "da04002a",
   "metadata": {},
   "outputs": [
    {
     "data": {
      "text/plain": [
       "<Axes: xlabel='transformer_sentiment_label'>"
      ]
     },
     "execution_count": 31,
     "metadata": {},
     "output_type": "execute_result"
    },
    {
     "data": {
      "image/png": "[encoded data removed]",
      "text/plain": [
       "<Figure size 640x480 with 1 Axes>"
      ]
     },
     "metadata": {},
     "output_type": "display_data"
    }
   ],
   "source": [
    "data['transformer_sentiment_label'].value_counts().plot.bar()"
   ]
  },
  {
   "cell_type": "code",
   "execution_count": null,
   "id": "286461d6",
   "metadata": {},
   "outputs": [],
   "source": []
  }
 ],
 "metadata": {
  "kernelspec": {
   "display_name": "base",
   "language": "python",
   "name": "python3"
  },
  "language_info": {
   "codemirror_mode": {
    "name": "ipython",
    "version": 3
   },
   "file_extension": ".py",
   "mimetype": "text/x-python",
   "name": "python",
   "nbconvert_exporter": "python",
   "pygments_lexer": "ipython3",
   "version": "3.13.5"
  }
 },
 "nbformat": 4,
 "nbformat_minor": 5
}
