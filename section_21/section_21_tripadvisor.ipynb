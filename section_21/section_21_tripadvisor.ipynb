{
 "cells": [
  {
   "cell_type": "code",
   "execution_count": 1,
   "id": "39b10e68",
   "metadata": {},
   "outputs": [],
   "source": [
    "import nltk\n",
    "from nltk.tokenize import word_tokenize\n",
    "from nltk.stem import PorterStemmer, WordNetLemmatizer\n",
    "from nltk.corpus import stopwords\n",
    "import re\n",
    "import pandas as pd"
   ]
  },
  {
   "cell_type": "code",
   "execution_count": 2,
   "id": "ca505417",
   "metadata": {},
   "outputs": [],
   "source": [
    "data = pd.read_csv(r\"D:\\Personal_Projects\\nlp_course_env\\section_21\\tripadvisor_hotel_reviews.csv\")"
   ]
  },
  {
   "cell_type": "code",
   "execution_count": 3,
   "id": "f4a71d20",
   "metadata": {},
   "outputs": [
    {
     "name": "stdout",
     "output_type": "stream",
     "text": [
      "                                                Review  Rating\n",
      "0    nice hotel expensive parking got good deal sta...       4\n",
      "1    ok nothing special charge diamond member hilto...       2\n",
      "2    nice rooms not 4* experience hotel monaco seat...       3\n",
      "3    unique, great stay, wonderful time hotel monac...       5\n",
      "4    great stay great stay, went seahawk game aweso...       5\n",
      "..                                                 ...     ...\n",
      "104  fairmont hotel singapore splendid, stayed fair...       5\n",
      "105  great hotel stayed hotel night route perth chr...       4\n",
      "106  great hotel centre stayed 5 nights room overlo...       4\n",
      "107  great location great value great hotel husband...       5\n",
      "108  lovely hotel great location stayed vacation to...       5\n",
      "\n",
      "[109 rows x 2 columns]\n",
      "<class 'pandas.core.frame.DataFrame'>\n",
      "RangeIndex: 109 entries, 0 to 108\n",
      "Data columns (total 2 columns):\n",
      " #   Column  Non-Null Count  Dtype \n",
      "---  ------  --------------  ----- \n",
      " 0   Review  109 non-null    object\n",
      " 1   Rating  109 non-null    int64 \n",
      "dtypes: int64(1), object(1)\n",
      "memory usage: 1.8+ KB\n"
     ]
    },
    {
     "data": {
      "text/html": [
       "<div>\n",
       "<style scoped>\n",
       "    .dataframe tbody tr th:only-of-type {\n",
       "        vertical-align: middle;\n",
       "    }\n",
       "\n",
       "    .dataframe tbody tr th {\n",
       "        vertical-align: top;\n",
       "    }\n",
       "\n",
       "    .dataframe thead th {\n",
       "        text-align: right;\n",
       "    }\n",
       "</style>\n",
       "<table border=\"1\" class=\"dataframe\">\n",
       "  <thead>\n",
       "    <tr style=\"text-align: right;\">\n",
       "      <th></th>\n",
       "      <th>Review</th>\n",
       "      <th>Rating</th>\n",
       "    </tr>\n",
       "  </thead>\n",
       "  <tbody>\n",
       "    <tr>\n",
       "      <th>0</th>\n",
       "      <td>nice hotel expensive parking got good deal sta...</td>\n",
       "      <td>4</td>\n",
       "    </tr>\n",
       "    <tr>\n",
       "      <th>1</th>\n",
       "      <td>ok nothing special charge diamond member hilto...</td>\n",
       "      <td>2</td>\n",
       "    </tr>\n",
       "    <tr>\n",
       "      <th>2</th>\n",
       "      <td>nice rooms not 4* experience hotel monaco seat...</td>\n",
       "      <td>3</td>\n",
       "    </tr>\n",
       "    <tr>\n",
       "      <th>3</th>\n",
       "      <td>unique, great stay, wonderful time hotel monac...</td>\n",
       "      <td>5</td>\n",
       "    </tr>\n",
       "    <tr>\n",
       "      <th>4</th>\n",
       "      <td>great stay great stay, went seahawk game aweso...</td>\n",
       "      <td>5</td>\n",
       "    </tr>\n",
       "  </tbody>\n",
       "</table>\n",
       "</div>"
      ],
      "text/plain": [
       "                                              Review  Rating\n",
       "0  nice hotel expensive parking got good deal sta...       4\n",
       "1  ok nothing special charge diamond member hilto...       2\n",
       "2  nice rooms not 4* experience hotel monaco seat...       3\n",
       "3  unique, great stay, wonderful time hotel monac...       5\n",
       "4  great stay great stay, went seahawk game aweso...       5"
      ]
     },
     "execution_count": 3,
     "metadata": {},
     "output_type": "execute_result"
    }
   ],
   "source": [
    "print(data)\n",
    "data.info()\n",
    "data.head()"
   ]
  },
  {
   "cell_type": "code",
   "execution_count": 23,
   "id": "5d4c350a",
   "metadata": {},
   "outputs": [],
   "source": [
    "data[\"review_lowercase\"] = data[\"Review\"].str.lower()\n",
    "\n",
    "en_stopwords = stopwords.words(\"english\")\n",
    "en_stopwords.remove(\"not\")\n",
    "\n",
    "data[\"review_no_stopwords\"] = data[\"review_lowercase\"].apply(lambda x: \" \".join([word for word in x.split() if word not in (en_stopwords)]))\n",
    "data[\"review_no_stopwords_punctuation\"] = data.apply(lambda x: re.sub(r\"[*]\", \" star\", x[\"review_no_stopwords\"]), axis=1)\n",
    "data[\"review_no_stopwords_punctuation\"] = data[\"review_no_stopwords\"].apply(lambda x: re.sub(r'[^\\w\\s]', \"\", x))\n",
    "data[\"tokenized\"] = data[\"review_no_stopwords_punctuation\"].apply(lambda x: word_tokenize(x))"
   ]
  },
  {
   "cell_type": "code",
   "execution_count": 24,
   "id": "34585f68",
   "metadata": {},
   "outputs": [
    {
     "data": {
      "text/plain": [
       "['nice',\n",
       " 'hotel',\n",
       " 'expensive',\n",
       " 'parking',\n",
       " 'got',\n",
       " 'good',\n",
       " 'deal',\n",
       " 'stay',\n",
       " 'hotel',\n",
       " 'anniversary',\n",
       " 'arrived',\n",
       " 'late',\n",
       " 'evening',\n",
       " 'took',\n",
       " 'advice',\n",
       " 'previous',\n",
       " 'reviews',\n",
       " 'valet',\n",
       " 'parking',\n",
       " 'check',\n",
       " 'quick',\n",
       " 'easy',\n",
       " 'little',\n",
       " 'disappointed',\n",
       " 'nonexistent',\n",
       " 'view',\n",
       " 'room',\n",
       " 'room',\n",
       " 'clean',\n",
       " 'nice',\n",
       " 'size',\n",
       " 'bed',\n",
       " 'comfortable',\n",
       " 'woke',\n",
       " 'stiff',\n",
       " 'neck',\n",
       " 'high',\n",
       " 'pillows',\n",
       " 'not',\n",
       " 'soundproof',\n",
       " 'like',\n",
       " 'heard',\n",
       " 'music',\n",
       " 'room',\n",
       " 'night',\n",
       " 'morning',\n",
       " 'loud',\n",
       " 'bangs',\n",
       " 'doors',\n",
       " 'opening',\n",
       " 'closing',\n",
       " 'hear',\n",
       " 'people',\n",
       " 'talking',\n",
       " 'hallway',\n",
       " 'maybe',\n",
       " 'noisy',\n",
       " 'neighbors',\n",
       " 'aveda',\n",
       " 'bath',\n",
       " 'products',\n",
       " 'nice',\n",
       " 'not',\n",
       " 'goldfish',\n",
       " 'stay',\n",
       " 'nice',\n",
       " 'touch',\n",
       " 'taken',\n",
       " 'advantage',\n",
       " 'staying',\n",
       " 'longer',\n",
       " 'location',\n",
       " 'great',\n",
       " 'walking',\n",
       " 'distance',\n",
       " 'shopping',\n",
       " 'overall',\n",
       " 'nice',\n",
       " 'experience',\n",
       " 'pay',\n",
       " '40',\n",
       " 'parking',\n",
       " 'night']"
      ]
     },
     "execution_count": 24,
     "metadata": {},
     "output_type": "execute_result"
    }
   ],
   "source": [
    "data.head()\n",
    "data[\"tokenized\"][0]"
   ]
  },
  {
   "cell_type": "code",
   "execution_count": null,
   "id": "e160037b",
   "metadata": {},
   "outputs": [],
   "source": []
  },
  {
   "cell_type": "code",
   "execution_count": null,
   "id": "46dc60ec",
   "metadata": {},
   "outputs": [],
   "source": []
  }
 ],
 "metadata": {
  "kernelspec": {
   "display_name": "nlp_course_env",
   "language": "python",
   "name": "python3"
  },
  "language_info": {
   "codemirror_mode": {
    "name": "ipython",
    "version": 3
   },
   "file_extension": ".py",
   "mimetype": "text/x-python",
   "name": "python",
   "nbconvert_exporter": "python",
   "pygments_lexer": "ipython3",
   "version": "3.11.13"
  }
 },
 "nbformat": 4,
 "nbformat_minor": 5
}
