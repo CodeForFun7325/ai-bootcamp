{
 "cells": [
  {
   "cell_type": "code",
   "execution_count": 2,
   "id": "08904556",
   "metadata": {},
   "outputs": [],
   "source": [
    "import nltk\n",
    "import pandas as pd\n",
    "import matplotlib.pyplot as plt"
   ]
  },
  {
   "cell_type": "code",
   "execution_count": 3,
   "id": "e005ab83",
   "metadata": {},
   "outputs": [
    {
     "name": "stdout",
     "output_type": "stream",
     "text": [
      "['the', 'rise', 'of', 'artificial', 'intelligence', 'has', 'led', 'to', 'significant', 'advancements', 'in', 'natureal', 'language', 'processing', 'computer', 'vision', 'and', 'other', 'fields', 'machine', 'learning', 'algorithms', 'are', 'becoming', 'more', 'sophisticated', 'enabling', 'computers', 'to', 'perform', 'compelx', 'tasks', 'that', 'were', 'once', 'thought', 'to', 'be', 'the', 'exclusive', 'domain', 'of', 'humans', 'with', 'the', 'advent', 'of', 'deep', 'learning', 'neural', 'networks', 'have', 'become', 'even', 'more', 'powerful', 'capable', 'of', 'processing', 'vast', 'amounts', 'of', 'data', 'and', 'learning', 'from', 'it', 'in', 'ways', 'that', 'were', 'not', 'psosible', 'before', 'as', 'a', 'result', 'ai', 'is', 'increasingly', 'being', 'used', 'in', 'a', 'wide', 'range', 'of', 'industries', 'from', 'healthcare', 'to', 'finance', 'to', 'transportation', 'and', 'its', 'impacts', 'is', 'only', 'set', 'to', 'grow', 'in', 'the', 'years', 'to', 'come']\n"
     ]
    }
   ],
   "source": [
    "tokens = \"the rise of artificial intelligence has led to significant advancements in natureal language processing computer vision and other fields machine learning algorithms are becoming more sophisticated enabling computers to perform compelx tasks that were once thought to be the exclusive domain of humans with the advent of deep learning neural networks have become even more powerful capable of processing vast amounts of data and learning from it in ways that were not psosible before as a result ai is increasingly being used in a wide range of industries from healthcare to finance to transportation and its impacts is only set to grow in the years to come\".split()\n",
    "print(tokens)"
   ]
  },
  {
   "cell_type": "code",
   "execution_count": 4,
   "id": "1af2d38b",
   "metadata": {},
   "outputs": [
    {
     "name": "stdout",
     "output_type": "stream",
     "text": [
      "(to,)          7\n",
      "(of,)          6\n",
      "(the,)         4\n",
      "(in,)          4\n",
      "(learning,)    3\n",
      "(and,)         3\n",
      "(from,)        2\n",
      "(more,)        2\n",
      "(is,)          2\n",
      "(that,)        2\n",
      "Name: count, dtype: int64\n"
     ]
    }
   ],
   "source": [
    "unigrams = (pd.Series(nltk.ngrams(tokens, 1)).value_counts())\n",
    "print(unigrams[:10])"
   ]
  },
  {
   "cell_type": "code",
   "execution_count": 5,
   "id": "3774c10e",
   "metadata": {},
   "outputs": [
    {
     "data": {
      "text/plain": [
       "Text(0.5, 1.0, '10 most frequently occurring unigrams')"
      ]
     },
     "execution_count": 5,
     "metadata": {},
     "output_type": "execute_result"
    },
    {
     "data": {
      "image/png": "[encoded data removed]",
      "text/plain": [
       "<Figure size 1200x800 with 1 Axes>"
      ]
     },
     "metadata": {},
     "output_type": "display_data"
    }
   ],
   "source": [
    "unigrams[:10].sort_values().plot.barh(color=\"lightsalmon\", width=.9, figsize=(12,8))\n",
    "plt.title(\"10 most frequently occurring unigrams\")"
   ]
  },
  {
   "cell_type": "code",
   "execution_count": 6,
   "id": "59cca7d1",
   "metadata": {},
   "outputs": [
    {
     "name": "stdout",
     "output_type": "stream",
     "text": [
      "(that, were)             2\n",
      "(the, rise)              1\n",
      "(increasingly, being)    1\n",
      "(ai, is)                 1\n",
      "(result, ai)             1\n",
      "(a, result)              1\n",
      "(as, a)                  1\n",
      "(before, as)             1\n",
      "(psosible, before)       1\n",
      "(not, psosible)          1\n",
      "Name: count, dtype: int64\n"
     ]
    }
   ],
   "source": [
    "bigrams = (pd.Series(nltk.ngrams(tokens, 2)).value_counts())\n",
    "print(bigrams[:10])"
   ]
  },
  {
   "cell_type": "code",
   "execution_count": 7,
   "id": "6afbb616",
   "metadata": {},
   "outputs": [
    {
     "name": "stdout",
     "output_type": "stream",
     "text": [
      "(the, rise, of)            1\n",
      "(even, more, powerful)     1\n",
      "(ai, is, increasingly)     1\n",
      "(result, ai, is)           1\n",
      "(a, result, ai)            1\n",
      "(as, a, result)            1\n",
      "(before, as, a)            1\n",
      "(psosible, before, as)     1\n",
      "(not, psosible, before)    1\n",
      "(were, not, psosible)      1\n",
      "Name: count, dtype: int64\n"
     ]
    }
   ],
   "source": [
    "trigrams = (pd.Series(nltk.ngrams(tokens, 3)).value_counts())\n",
    "print(trigrams[:10])"
   ]
  }
 ],
 "metadata": {
  "kernelspec": {
   "display_name": "nlp_course_env",
   "language": "python",
   "name": "python3"
  },
  "language_info": {
   "codemirror_mode": {
    "name": "ipython",
    "version": 3
   },
   "file_extension": ".py",
   "mimetype": "text/x-python",
   "name": "python",
   "nbconvert_exporter": "python",
   "pygments_lexer": "ipython3",
   "version": "3.11.13"
  }
 },
 "nbformat": 4,
 "nbformat_minor": 5
}
