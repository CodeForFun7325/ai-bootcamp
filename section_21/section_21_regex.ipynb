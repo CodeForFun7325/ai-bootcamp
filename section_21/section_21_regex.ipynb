{
 "cells": [
  {
   "cell_type": "markdown",
   "id": "8825d227",
   "metadata": {},
   "source": [
    "Regex, short for regular expression, is a sequence of characters that defines a search pattern. "
   ]
  },
  {
   "cell_type": "code",
   "execution_count": 27,
   "id": "afb8eea4",
   "metadata": {},
   "outputs": [],
   "source": [
    "import re"
   ]
  },
  {
   "cell_type": "code",
   "execution_count": 28,
   "id": "d9e70287",
   "metadata": {},
   "outputs": [
    {
     "name": "stdout",
     "output_type": "stream",
     "text": [
      "C:\\desktop\\notes\n"
     ]
    }
   ],
   "source": [
    "my_folder = r\"C:\\desktop\\notes\"\n",
    "print(my_folder)"
   ]
  },
  {
   "cell_type": "code",
   "execution_count": 29,
   "id": "d720bce7",
   "metadata": {},
   "outputs": [
    {
     "name": "stdout",
     "output_type": "stream",
     "text": [
      "<re.Match object; span=(22, 29), match='pattern'>\n"
     ]
    }
   ],
   "source": [
    "result_search = re.search(\"pattern\", r\"string to contain the pattern\")\n",
    "print(result_search)"
   ]
  },
  {
   "cell_type": "code",
   "execution_count": 30,
   "id": "f2cb4264",
   "metadata": {},
   "outputs": [
    {
     "name": "stdout",
     "output_type": "stream",
     "text": [
      "None\n"
     ]
    }
   ],
   "source": [
    "result_search_2 = re.search(\"pattern\", r\"the phrase to find isn't in this string\")\n",
    "print(result_search_2)"
   ]
  },
  {
   "cell_type": "code",
   "execution_count": 31,
   "id": "a005bd58",
   "metadata": {},
   "outputs": [
    {
     "name": "stdout",
     "output_type": "stream",
     "text": [
      "sarah was able to help me find the items I needed quickly\n"
     ]
    }
   ],
   "source": [
    "string = r\"sara was able to help me find the items I needed quickly\"\n",
    "new_string = re.sub(\"sara\", \"sarah\", string)\n",
    "print(new_string)"
   ]
  },
  {
   "cell_type": "code",
   "execution_count": 32,
   "id": "98bfaeca",
   "metadata": {},
   "outputs": [],
   "source": [
    "customer_reviews = [\"sam was a great help to me in the store\", \n",
    "                    \"the cashier was very rude to me, I think her name was eleanor\", \n",
    "                    \"amazing work from sadeen!\", \n",
    "                    \"sarah was able to help me find the items I needed quickly\", \n",
    "                    \"lucy is such a great addition to the team\", \n",
    "                    \"great service from sara she found me what I wanted\"]\n"
   ]
  },
  {
   "cell_type": "code",
   "execution_count": 33,
   "id": "ac00c041",
   "metadata": {},
   "outputs": [
    {
     "name": "stdout",
     "output_type": "stream",
     "text": [
      "['sarah was able to help me find the items I needed quickly', 'great service from sara she found me what I wanted']\n"
     ]
    }
   ],
   "source": [
    "# the '?' means the preceding character is optional in regex\n",
    "\n",
    "pattern_to_find = r\"sarah?\"\n",
    "\n",
    "sarah_reviews = [string for string in customer_reviews if re.search(pattern_to_find, string, re.IGNORECASE)]\n",
    "\n",
    "print(sarah_reviews)"
   ]
  },
  {
   "cell_type": "code",
   "execution_count": 34,
   "id": "8046d2fb",
   "metadata": {},
   "outputs": [
    {
     "name": "stdout",
     "output_type": "stream",
     "text": [
      "['amazing work from sadeen!']\n"
     ]
    }
   ],
   "source": [
    "# the '^' means the string must start with the following character in regex\n",
    "pattern_to_find = r\"^a\"\n",
    "\n",
    "a_reviews = [string for string in customer_reviews if re.search(pattern_to_find, string, re.IGNORECASE)]\n",
    "print(a_reviews)"
   ]
  },
  {
   "cell_type": "code",
   "execution_count": 35,
   "id": "90bda771",
   "metadata": {},
   "outputs": [
    {
     "name": "stdout",
     "output_type": "stream",
     "text": [
      "['sarah was able to help me find the items I needed quickly']\n"
     ]
    }
   ],
   "source": [
    "# the '$' means the string must end with the preceding character in regex\n",
    "pattern_to_find = r\"y$\"\n",
    "\n",
    "y_reviews = [string for string in customer_reviews if re.search(pattern_to_find, string, re.IGNORECASE)]\n",
    "print(y_reviews)"
   ]
  },
  {
   "cell_type": "code",
   "execution_count": 36,
   "id": "a393fe58",
   "metadata": {},
   "outputs": [
    {
     "name": "stdout",
     "output_type": "stream",
     "text": [
      "['sarah was able to help me find the items I needed quickly', 'great service from sara she found me what I wanted']\n"
     ]
    }
   ],
   "source": [
    "# the '|' means OR in regex\n",
    "pattern_to_find = r\"(need|want)ed\"\n",
    "needwant_reviews = [string for string in customer_reviews if re.search(pattern_to_find, string, re.IGNORECASE)]\n",
    "print(needwant_reviews)"
   ]
  },
  {
   "cell_type": "code",
   "execution_count": null,
   "id": "3c0de100",
   "metadata": {},
   "outputs": [
    {
     "name": "stdout",
     "output_type": "stream",
     "text": [
      "['sam was a great help to me in the store', 'the cashier was very rude to me, I think her name was eleanor', 'amazing work from sadeen!', 'sarah was able to help me find the items I needed quickly', 'lucy is such a great addition to the team', 'great service from sara she found me what I wanted']\n"
     ]
    }
   ],
   "source": [
    "# the '\\w' means any alphanumeric character, \n",
    "# the '\\s' means whitespace, \n",
    "# and the '\\W' means any non-alphanumeric character in regex\n",
    "pattern_to_find = r\"[^\\w\\s]\"\n",
    "no_punct_reviews = [string for string in customer_reviews if re.sub(pattern_to_find, \"\", string)]\n",
    "print(no_punct_reviews)"
   ]
  }
 ],
 "metadata": {
  "kernelspec": {
   "display_name": "nlp_course_env",
   "language": "python",
   "name": "python3"
  },
  "language_info": {
   "codemirror_mode": {
    "name": "ipython",
    "version": 3
   },
   "file_extension": ".py",
   "mimetype": "text/x-python",
   "name": "python",
   "nbconvert_exporter": "python",
   "pygments_lexer": "ipython3",
   "version": "3.11.13"
  }
 },
 "nbformat": 4,
 "nbformat_minor": 5
}
