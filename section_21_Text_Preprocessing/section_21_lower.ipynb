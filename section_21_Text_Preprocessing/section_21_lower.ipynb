{
 "cells": [
  {
   "cell_type": "code",
   "execution_count": 5,
   "id": "132e9860",
   "metadata": {},
   "outputs": [],
   "source": [
    "sentence = \"Her cat's name is Luna\""
   ]
  },
  {
   "cell_type": "code",
   "execution_count": 6,
   "id": "3f5fdff9",
   "metadata": {},
   "outputs": [],
   "source": [
    "lower_sentence = sentence.lower()"
   ]
  },
  {
   "cell_type": "code",
   "execution_count": 10,
   "id": "388037ee",
   "metadata": {},
   "outputs": [
    {
     "name": "stdout",
     "output_type": "stream",
     "text": [
      "her cat's name is luna\n"
     ]
    }
   ],
   "source": [
    "print(lower_sentence)"
   ]
  },
  {
   "cell_type": "code",
   "execution_count": 13,
   "id": "ee2dcf48",
   "metadata": {},
   "outputs": [],
   "source": [
    "sentence_list = [\"Coult you pass me the TV remote?\", \n",
    "                 \"It is IMPOSSIBLE to get find this hotel\", \n",
    "                 \"Want to go for dinner on Tuesday?\"]"
   ]
  },
  {
   "cell_type": "code",
   "execution_count": 15,
   "id": "82934ea2",
   "metadata": {},
   "outputs": [
    {
     "name": "stdout",
     "output_type": "stream",
     "text": [
      "['coult you pass me the tv remote?', 'it is impossible to get find this hotel', 'want to go for dinner on tuesday?']\n"
     ]
    }
   ],
   "source": [
    "lower_sentence_list = [s.lower() for s in sentence_list]\n",
    "print(lower_sentence_list)"
   ]
  }
 ],
 "metadata": {
  "kernelspec": {
   "display_name": "nlp_course_env",
   "language": "python",
   "name": "python3"
  },
  "language_info": {
   "codemirror_mode": {
    "name": "ipython",
    "version": 3
   },
   "file_extension": ".py",
   "mimetype": "text/x-python",
   "name": "python",
   "nbconvert_exporter": "python",
   "pygments_lexer": "ipython3",
   "version": "3.11.13"
  }
 },
 "nbformat": 4,
 "nbformat_minor": 5
}
