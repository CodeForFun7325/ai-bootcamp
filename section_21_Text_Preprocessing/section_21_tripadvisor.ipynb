{
 "cells": [
  {
   "cell_type": "code",
   "execution_count": 1,
   "id": "39b10e68",
   "metadata": {
    "ExecuteTime": {
     "end_time": "2025-09-21T03:08:38.694026Z",
     "start_time": "2025-09-21T03:08:38.690593Z"
    }
   },
   "outputs": [],
   "source": [
    "import nltk\n",
    "from nltk.tokenize import word_tokenize\n",
    "from nltk.stem import PorterStemmer, WordNetLemmatizer\n",
    "from nltk.corpus import stopwords\n",
    "import re\n",
    "import pandas as pd"
   ]
  },
  {
   "cell_type": "code",
   "execution_count": 3,
   "id": "ca505417",
   "metadata": {
    "ExecuteTime": {
     "end_time": "2025-09-21T03:08:38.721043Z",
     "start_time": "2025-09-21T03:08:38.714652Z"
    }
   },
   "outputs": [],
   "source": [
    "data = pd.read_csv(r\"D:\\Personal_Projects\\ai-bootcamp\\section_21_Text_Preprocessing\\tripadvisor_hotel_reviews.csv\")"
   ]
  },
  {
   "cell_type": "code",
   "execution_count": 10,
   "id": "f4a71d20",
   "metadata": {
    "ExecuteTime": {
     "end_time": "2025-09-21T03:08:38.759084Z",
     "start_time": "2025-09-21T03:08:38.733567Z"
    }
   },
   "outputs": [
    {
     "name": "stdout",
     "output_type": "stream",
     "text": [
      "                                                Review  Rating\n",
      "0    nice hotel expensive parking got good deal sta...       4\n",
      "1    ok nothing special charge diamond member hilto...       2\n",
      "2    nice rooms not 4* experience hotel monaco seat...       3\n",
      "3    unique, great stay, wonderful time hotel monac...       5\n",
      "4    great stay great stay, went seahawk game aweso...       5\n",
      "..                                                 ...     ...\n",
      "104  fairmont hotel singapore splendid, stayed fair...       5\n",
      "105  great hotel stayed hotel night route perth chr...       4\n",
      "106  great hotel centre stayed 5 nights room overlo...       4\n",
      "107  great location great value great hotel husband...       5\n",
      "108  lovely hotel great location stayed vacation to...       5\n",
      "\n",
      "[109 rows x 2 columns]\n",
      "<class 'pandas.core.frame.DataFrame'>\n",
      "RangeIndex: 109 entries, 0 to 108\n",
      "Data columns (total 2 columns):\n",
      " #   Column  Non-Null Count  Dtype \n",
      "---  ------  --------------  ----- \n",
      " 0   Review  109 non-null    object\n",
      " 1   Rating  109 non-null    int64 \n",
      "dtypes: int64(1), object(1)\n",
      "memory usage: 1.8+ KB\n"
     ]
    },
    {
     "data": {
      "text/html": [
       "<div>\n",
       "<style scoped>\n",
       "    .dataframe tbody tr th:only-of-type {\n",
       "        vertical-align: middle;\n",
       "    }\n",
       "\n",
       "    .dataframe tbody tr th {\n",
       "        vertical-align: top;\n",
       "    }\n",
       "\n",
       "    .dataframe thead th {\n",
       "        text-align: right;\n",
       "    }\n",
       "</style>\n",
       "<table border=\"1\" class=\"dataframe\">\n",
       "  <thead>\n",
       "    <tr style=\"text-align: right;\">\n",
       "      <th></th>\n",
       "      <th>Review</th>\n",
       "      <th>Rating</th>\n",
       "    </tr>\n",
       "  </thead>\n",
       "  <tbody>\n",
       "    <tr>\n",
       "      <th>0</th>\n",
       "      <td>nice hotel expensive parking got good deal sta...</td>\n",
       "      <td>4</td>\n",
       "    </tr>\n",
       "    <tr>\n",
       "      <th>1</th>\n",
       "      <td>ok nothing special charge diamond member hilto...</td>\n",
       "      <td>2</td>\n",
       "    </tr>\n",
       "    <tr>\n",
       "      <th>2</th>\n",
       "      <td>nice rooms not 4* experience hotel monaco seat...</td>\n",
       "      <td>3</td>\n",
       "    </tr>\n",
       "    <tr>\n",
       "      <th>3</th>\n",
       "      <td>unique, great stay, wonderful time hotel monac...</td>\n",
       "      <td>5</td>\n",
       "    </tr>\n",
       "    <tr>\n",
       "      <th>4</th>\n",
       "      <td>great stay great stay, went seahawk game aweso...</td>\n",
       "      <td>5</td>\n",
       "    </tr>\n",
       "  </tbody>\n",
       "</table>\n",
       "</div>"
      ],
      "text/plain": [
       "                                              Review  Rating\n",
       "0  nice hotel expensive parking got good deal sta...       4\n",
       "1  ok nothing special charge diamond member hilto...       2\n",
       "2  nice rooms not 4* experience hotel monaco seat...       3\n",
       "3  unique, great stay, wonderful time hotel monac...       5\n",
       "4  great stay great stay, went seahawk game aweso...       5"
      ]
     },
     "execution_count": 10,
     "metadata": {},
     "output_type": "execute_result"
    }
   ],
   "source": [
    "print(data)\n",
    "data.info()\n",
    "data.head()"
   ]
  },
  {
   "cell_type": "code",
   "execution_count": 11,
   "id": "5d4c350a",
   "metadata": {
    "ExecuteTime": {
     "end_time": "2025-09-21T03:08:38.985592Z",
     "start_time": "2025-09-21T03:08:38.852716Z"
    }
   },
   "outputs": [],
   "source": [
    "data[\"review_lowercase\"] = data[\"Review\"].str.lower()\n",
    "\n",
    "en_stopwords = stopwords.words(\"english\")\n",
    "en_stopwords.remove(\"not\")\n",
    "\n",
    "data[\"review_no_stopwords\"] = data[\"review_lowercase\"].apply(lambda x: \" \".join([word for word in x.split() if word not in (en_stopwords)]))\n",
    "data[\"review_no_stopwords_punctuation\"] = data.apply(lambda x: re.sub(r\"[*]\", \" star\", x[\"review_no_stopwords\"]), axis=1)\n",
    "data[\"review_no_stopwords_punctuation\"] = data[\"review_no_stopwords\"].apply(lambda x: re.sub(r'[^\\w\\s]', \"\", x))\n",
    "data[\"tokenized\"] = data[\"review_no_stopwords_punctuation\"].apply(lambda x: word_tokenize(x))"
   ]
  },
  {
   "cell_type": "code",
   "execution_count": 12,
   "id": "34585f68",
   "metadata": {
    "ExecuteTime": {
     "end_time": "2025-09-21T03:08:39.058729Z",
     "start_time": "2025-09-21T03:08:39.053437Z"
    }
   },
   "outputs": [
    {
     "data": {
      "text/plain": [
       "['nice',\n",
       " 'hotel',\n",
       " 'expensive',\n",
       " 'parking',\n",
       " 'got',\n",
       " 'good',\n",
       " 'deal',\n",
       " 'stay',\n",
       " 'hotel',\n",
       " 'anniversary',\n",
       " 'arrived',\n",
       " 'late',\n",
       " 'evening',\n",
       " 'took',\n",
       " 'advice',\n",
       " 'previous',\n",
       " 'reviews',\n",
       " 'valet',\n",
       " 'parking',\n",
       " 'check',\n",
       " 'quick',\n",
       " 'easy',\n",
       " 'little',\n",
       " 'disappointed',\n",
       " 'nonexistent',\n",
       " 'view',\n",
       " 'room',\n",
       " 'room',\n",
       " 'clean',\n",
       " 'nice',\n",
       " 'size',\n",
       " 'bed',\n",
       " 'comfortable',\n",
       " 'woke',\n",
       " 'stiff',\n",
       " 'neck',\n",
       " 'high',\n",
       " 'pillows',\n",
       " 'not',\n",
       " 'soundproof',\n",
       " 'like',\n",
       " 'heard',\n",
       " 'music',\n",
       " 'room',\n",
       " 'night',\n",
       " 'morning',\n",
       " 'loud',\n",
       " 'bangs',\n",
       " 'doors',\n",
       " 'opening',\n",
       " 'closing',\n",
       " 'hear',\n",
       " 'people',\n",
       " 'talking',\n",
       " 'hallway',\n",
       " 'maybe',\n",
       " 'noisy',\n",
       " 'neighbors',\n",
       " 'aveda',\n",
       " 'bath',\n",
       " 'products',\n",
       " 'nice',\n",
       " 'not',\n",
       " 'goldfish',\n",
       " 'stay',\n",
       " 'nice',\n",
       " 'touch',\n",
       " 'taken',\n",
       " 'advantage',\n",
       " 'staying',\n",
       " 'longer',\n",
       " 'location',\n",
       " 'great',\n",
       " 'walking',\n",
       " 'distance',\n",
       " 'shopping',\n",
       " 'overall',\n",
       " 'nice',\n",
       " 'experience',\n",
       " 'pay',\n",
       " '40',\n",
       " 'parking',\n",
       " 'night']"
      ]
     },
     "execution_count": 12,
     "metadata": {},
     "output_type": "execute_result"
    }
   ],
   "source": [
    "data.head()\n",
    "data[\"tokenized\"][0]"
   ]
  },
  {
   "cell_type": "code",
   "execution_count": 14,
   "id": "e160037b",
   "metadata": {
    "ExecuteTime": {
     "end_time": "2025-09-21T04:41:11.314337Z",
     "start_time": "2025-09-21T04:41:11.203600Z"
    }
   },
   "outputs": [],
   "source": [
    "ps = PorterStemmer()\n",
    "data['stemmed'] = data['tokenized'].apply(lambda tokens: [ps.stem(token) for token in tokens])\n"
   ]
  },
  {
   "cell_type": "code",
   "execution_count": 15,
   "id": "46dc60ec",
   "metadata": {
    "ExecuteTime": {
     "end_time": "2025-09-21T04:41:40.406095Z",
     "start_time": "2025-09-21T04:41:40.369503Z"
    }
   },
   "outputs": [
    {
     "data": {
      "text/plain": [
       "0      [nice, hotel, expensive, parking, got, good, d...\n",
       "1      [ok, nothing, special, charge, diamond, member...\n",
       "2      [nice, room, not, 4, experience, hotel, monaco...\n",
       "3      [unique, great, stay, wonderful, time, hotel, ...\n",
       "4      [great, stay, great, stay, went, seahawk, game...\n",
       "                             ...                        \n",
       "104    [fairmont, hotel, singapore, splendid, stayed,...\n",
       "105    [great, hotel, stayed, hotel, night, route, pe...\n",
       "106    [great, hotel, centre, stayed, 5, night, room,...\n",
       "107    [great, location, great, value, great, hotel, ...\n",
       "108    [lovely, hotel, great, location, stayed, vacat...\n",
       "Name: lemmatized, Length: 109, dtype: object"
      ]
     },
     "execution_count": 15,
     "metadata": {},
     "output_type": "execute_result"
    }
   ],
   "source": [
    "lemmatizer = WordNetLemmatizer()\n",
    "data['lemmatized'] = data['tokenized'].apply(lambda tokens: [lemmatizer.lemmatize(token) for token in tokens])\n",
    "data['lemmatized']"
   ]
  },
  {
   "cell_type": "code",
   "execution_count": 16,
   "id": "3dbdca2d3ec0dcad",
   "metadata": {
    "ExecuteTime": {
     "end_time": "2025-09-21T04:42:02.546933Z",
     "start_time": "2025-09-21T04:42:02.541245Z"
    }
   },
   "outputs": [],
   "source": [
    "tokens_clean = sum(data['lemmatized'], [])"
   ]
  },
  {
   "cell_type": "code",
   "execution_count": 24,
   "id": "7519e0c17e55d82f",
   "metadata": {
    "ExecuteTime": {
     "end_time": "2025-09-21T04:46:01.968325Z",
     "start_time": "2025-09-21T04:46:01.957440Z"
    }
   },
   "outputs": [
    {
     "data": {
      "text/plain": [
       "(hotel,)          292\n",
       "(room,)           275\n",
       "(great,)          126\n",
       "(not,)            122\n",
       "(stay,)            95\n",
       "                 ... \n",
       "(electronic,)       1\n",
       "(blind,)            1\n",
       "(breakfasted,)      1\n",
       "(stocked,)          1\n",
       "(breakast,)         1\n",
       "Name: count, Length: 2588, dtype: int64"
      ]
     },
     "execution_count": 24,
     "metadata": {},
     "output_type": "execute_result"
    }
   ],
   "source": [
    "unigrams = (pd.Series(nltk.ngrams(tokens_clean, 1)).value_counts())\n",
    "unigrams"
   ]
  },
  {
   "cell_type": "code",
   "execution_count": 25,
   "id": "80d2bc7f295bfc18",
   "metadata": {
    "ExecuteTime": {
     "end_time": "2025-09-21T04:46:48.756098Z",
     "start_time": "2025-09-21T04:46:48.740117Z"
    }
   },
   "outputs": [
    {
     "data": {
      "text/plain": [
       "(great, location)          24\n",
       "(space, needle)            21\n",
       "(hotel, monaco)            16\n",
       "(great, view)              12\n",
       "(great, hotel)             12\n",
       "                           ..\n",
       "(looking, decorated)        1\n",
       "(decorated, maintained)     1\n",
       "(maintained, staff)         1\n",
       "(professional, large)       1\n",
       "(large, room)               1\n",
       "Name: count, Length: 8262, dtype: int64"
      ]
     },
     "execution_count": 25,
     "metadata": {},
     "output_type": "execute_result"
    }
   ],
   "source": [
    "bigrams = pd.Series(nltk.ngrams(tokens_clean, 2)).value_counts()\n",
    "bigrams"
   ]
  }
 ],
 "metadata": {
  "kernelspec": {
   "display_name": "base",
   "language": "python",
   "name": "python3"
  },
  "language_info": {
   "codemirror_mode": {
    "name": "ipython",
    "version": 3
   },
   "file_extension": ".py",
   "mimetype": "text/x-python",
   "name": "python",
   "nbconvert_exporter": "python",
   "pygments_lexer": "ipython3",
   "version": "3.13.5"
  }
 },
 "nbformat": 4,
 "nbformat_minor": 5
}
